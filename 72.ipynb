{
 "cells": [
  {
   "cell_type": "markdown",
   "metadata": {},
   "source": [
    "## 72. Edit Distance"
   ]
  },
  {
   "cell_type": "markdown",
   "metadata": {},
   "source": [
    "## 解题思路\n",
    "\n",
    "一道非常经典的动态规划问题。\n",
    "\n",
    "动态规划问题需要从后往前解。\n",
    "\n",
    "用矩阵dist[n][m]来记录word1[0:n-1]和word2[0:m-1]之间的编辑距离。\n",
    "\n",
    "dist[i][j]记录word1[0:i-1]和word2[0:m-1]之间的距离，初始化dist[0][j] = j和dist[i][0] = i，\n",
    "\n",
    "dist[i][j]有三种情况：\n",
    "\n",
    "1. dist[i-1][j]+1；\n",
    "\n",
    "2. dist[i][j-1]+1；\n",
    "\n",
    "3. 如果word1[i-1]和word2[j-1]相同，那么距离为dist[i-1][j-1]；不同，则dist[i-1][j-1]+1；\n",
    "\n",
    "三种情况取最小。"
   ]
  },
  {
   "cell_type": "code",
   "execution_count": 1,
   "metadata": {
    "collapsed": true
   },
   "outputs": [],
   "source": [
    "class Solution:\n",
    "    def minDistance(self, word1, word2):\n",
    "        \"\"\"\n",
    "        :type word1: str\n",
    "        :type word2: str\n",
    "        :rtype: int\n",
    "        \"\"\"\n",
    "        dist = [[0 for _ in range(len(word2)+1)] for _ in range(len(word1)+1)]\n",
    "        \n",
    "        dist[0][0] = 0\n",
    "        for i in range(1, len(word1)+1):\n",
    "            dist[i][0] = i\n",
    "        for j in range(1, len(word2)+1):\n",
    "            dist[0][j] = j\n",
    "            \n",
    "        for i in range(1, len(word1)+1):\n",
    "            for j in range(1, len(word2)+1):\n",
    "                dist[i][j] = min(dist[i-1][j]+1, dist[i][j-1]+1)\n",
    "                if word1[i-1] == word2[j-1]:\n",
    "                    cost = 0\n",
    "                else:\n",
    "                    cost = 1\n",
    "                dist[i][j] = min(dist[i][j], dist[i-1][j-1]+cost)\n",
    "                \n",
    "        return dist[-1][-1]"
   ]
  },
  {
   "cell_type": "code",
   "execution_count": 2,
   "metadata": {},
   "outputs": [
    {
     "name": "stdout",
     "output_type": "stream",
     "text": [
      "3\n"
     ]
    }
   ],
   "source": [
    "if __name__ == '__main__':\n",
    "    solution = Solution()\n",
    "    print(solution.minDistance('abc', 'def'))"
   ]
  },
  {
   "cell_type": "code",
   "execution_count": null,
   "metadata": {
    "collapsed": true
   },
   "outputs": [],
   "source": []
  }
 ],
 "metadata": {
  "kernelspec": {
   "display_name": "Python 3",
   "language": "python",
   "name": "python3"
  },
  "language_info": {
   "codemirror_mode": {
    "name": "ipython",
    "version": 3
   },
   "file_extension": ".py",
   "mimetype": "text/x-python",
   "name": "python",
   "nbconvert_exporter": "python",
   "pygments_lexer": "ipython3",
   "version": "3.5.4"
  }
 },
 "nbformat": 4,
 "nbformat_minor": 2
}
