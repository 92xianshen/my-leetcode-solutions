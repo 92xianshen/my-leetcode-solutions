{
 "cells": [
  {
   "cell_type": "markdown",
   "metadata": {},
   "source": [
    "## 97. Interleaving String"
   ]
  },
  {
   "cell_type": "markdown",
   "metadata": {},
   "source": [
    "## 解题思路\n",
    "\n",
    "用reach矩阵来记录通路，reach[i][j]记录是否能到达s3[i+j-1]。\n",
    "\n",
    "reach[0][0]是可以到达的\n",
    "\n",
    "reach[0, :]判断一下s3每个字符是否和s2相符，且前一个状态能否到达\n",
    "\n",
    "reach[:, 0]判断一下s3每个字符是否和s1相符，且前一个状态能否到达\n",
    "\n",
    "中间的要判断是否到达，而且到达方向的字符串字符是否符合。"
   ]
  },
  {
   "cell_type": "code",
   "execution_count": 24,
   "metadata": {},
   "outputs": [],
   "source": [
    "class Solution:\n",
    "    def isInterleave(self, s1, s2, s3):\n",
    "        \"\"\"\n",
    "        :type s1: str\n",
    "        :type s2: str\n",
    "        :type s3: str\n",
    "        :rtype: bool\n",
    "        \"\"\"\n",
    "        if len(s3) != len(s1)+len(s2):\n",
    "            return False\n",
    "        \n",
    "        reach = [[0 for _ in range(len(s2)+1)] for _ in range(len(s1)+1)]\n",
    "            \n",
    "        for i in range(len(s1)+1):\n",
    "            for j in range(len(s2)+1):\n",
    "                if i == 0 and j == 0:\n",
    "                    reach[i][j] = 1\n",
    "                elif i == 0 and s2[j-1] == s3[j-1] and reach[i][j-1] == 1:\n",
    "                    reach[i][j] = 1\n",
    "                elif j == 0 and s1[i-1] == s3[i-1] and reach[i-1][j] == 1:\n",
    "                    reach[i][j] = 1\n",
    "                elif reach[i-1][j] == 1 and s1[i-1] == s3[i+j-1]:\n",
    "                    reach[i][j] = 1\n",
    "                elif reach[i][j-1] == 1 and s2[j-1] == s3[i+j-1]:\n",
    "                    reach[i][j] = 1\n",
    "                    \n",
    "        return reach[len(s1)][len(s2)] == 1"
   ]
  },
  {
   "cell_type": "code",
   "execution_count": 27,
   "metadata": {},
   "outputs": [
    {
     "name": "stdout",
     "output_type": "stream",
     "text": [
      "False\n"
     ]
    }
   ],
   "source": [
    "solution = Solution()\n",
    "print(solution.isInterleave(\"a\", \"\", \"c\"))"
   ]
  },
  {
   "cell_type": "code",
   "execution_count": null,
   "metadata": {
    "collapsed": true
   },
   "outputs": [],
   "source": []
  }
 ],
 "metadata": {
  "kernelspec": {
   "display_name": "Python 3",
   "language": "python",
   "name": "python3"
  },
  "language_info": {
   "codemirror_mode": {
    "name": "ipython",
    "version": 3
   },
   "file_extension": ".py",
   "mimetype": "text/x-python",
   "name": "python",
   "nbconvert_exporter": "python",
   "pygments_lexer": "ipython3",
   "version": "3.6.3"
  }
 },
 "nbformat": 4,
 "nbformat_minor": 2
}
