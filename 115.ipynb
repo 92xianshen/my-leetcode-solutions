{
 "cells": [
  {
   "cell_type": "markdown",
   "metadata": {},
   "source": [
    "## 115. Distinct Subsequences"
   ]
  },
  {
   "cell_type": "markdown",
   "metadata": {},
   "source": [
    "## 解题思路：\n",
    "\n",
    "动态规划问题。\n",
    "\n",
    "如果用dp[i][j] 表示s[0:i]中包含t[0:j]的数目的话，当s[i]==t[j]时，t[j]可以和s[i]匹配，此时有dp[i-1][j-1]种情况，t[j]也可以不和s[i]匹配，此时有dp[i-1][j]种情况。"
   ]
  },
  {
   "cell_type": "code",
   "execution_count": 18,
   "metadata": {
    "collapsed": true
   },
   "outputs": [],
   "source": [
    "class Solution:\n",
    "    def numDistinct(self, s, t):\n",
    "        \"\"\"\n",
    "        :type s: str\n",
    "        :type t: str\n",
    "        :rtype: int\n",
    "        \"\"\"\n",
    "        if len(t) == 0:\n",
    "            return len(s)\n",
    "        if len(s) < len(t):\n",
    "            return 0\n",
    "        \n",
    "        dp = [[0 for _ in range(len(t)+1)] for _ in range(len(s)+1)]\n",
    "        \n",
    "        for i in range(len(s)+1):\n",
    "            dp[i][0] = 1\n",
    "        \n",
    "        for i in range(1, len(s)+1):\n",
    "            for j in range(1, min(i+1, len(t)+1)):\n",
    "                if i == j and s[:i] == t[:j]:\n",
    "                    dp[i][j] = 1\n",
    "                elif s[i-1] != t[j-1]:\n",
    "                    dp[i][j] = dp[i-1][j]\n",
    "                else:\n",
    "                    dp[i][j] = dp[i-1][j]+dp[i-1][j-1]\n",
    "                    \n",
    "        return dp[-1][-1]"
   ]
  },
  {
   "cell_type": "code",
   "execution_count": 19,
   "metadata": {},
   "outputs": [
    {
     "name": "stdout",
     "output_type": "stream",
     "text": [
      "3\n"
     ]
    }
   ],
   "source": [
    "solution = Solution()\n",
    "print(solution.numDistinct(s='ccc', t='c'))"
   ]
  },
  {
   "cell_type": "code",
   "execution_count": null,
   "metadata": {
    "collapsed": true
   },
   "outputs": [],
   "source": []
  }
 ],
 "metadata": {
  "kernelspec": {
   "display_name": "Python 3",
   "language": "python",
   "name": "python3"
  },
  "language_info": {
   "codemirror_mode": {
    "name": "ipython",
    "version": 3
   },
   "file_extension": ".py",
   "mimetype": "text/x-python",
   "name": "python",
   "nbconvert_exporter": "python",
   "pygments_lexer": "ipython3",
   "version": "3.6.3"
  }
 },
 "nbformat": 4,
 "nbformat_minor": 2
}
