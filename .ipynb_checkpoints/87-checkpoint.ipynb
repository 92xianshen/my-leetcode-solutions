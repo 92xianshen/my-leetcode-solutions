{
 "cells": [
  {
   "cell_type": "markdown",
   "metadata": {},
   "source": [
    "## 87. Scramble String"
   ]
  },
  {
   "cell_type": "markdown",
   "metadata": {},
   "source": [
    "## 解题思路\n",
    "\n",
    "递归方法解题。\n",
    "\n",
    "遍历所有分界点，然后判断左右子串是不是乱序串，还要交换判断是否为乱序串。子串判断是否由相同字母构成：否，则剪枝；是，继续递归查找。"
   ]
  },
  {
   "cell_type": "code",
   "execution_count": 16,
   "metadata": {
    "collapsed": true
   },
   "outputs": [],
   "source": [
    "class Solution:\n",
    "    def isScramble(self, s1, s2):\n",
    "        \"\"\"\n",
    "        :type s1: str\n",
    "        :type s2: str\n",
    "        :rtype: bool\n",
    "        \"\"\"\n",
    "        if len(s1) != len(s2):\n",
    "            return False\n",
    "        if s1 == s2:\n",
    "            return True\n",
    "        \n",
    "        \n",
    "        voc = [0 for _ in range(26)]\n",
    "        for i in range(len(s1)):\n",
    "            voc[ord(s1[i])-ord('a')] += 1\n",
    "        for i in range(len(s2)):\n",
    "            voc[ord(s2[i])-ord('a')] -= 1\n",
    "        for i in range(len(voc)):\n",
    "            if voc[i] != 0:\n",
    "                return False\n",
    "        \n",
    "        for i in range(1, len(s1)):\n",
    "            if self.isScramble(s1[0:i], s2[0:i]) and self.isScramble(s1[i:len(s1)], s2[i:len(s2)]):\n",
    "                return True\n",
    "            if self.isScramble(s1[0:i], s2[len(s2)-i:len(s2)]) and self.isScramble(s1[i:len(s1)], s2[0:len(s2)-i]):\n",
    "                return True\n",
    "        return False"
   ]
  },
  {
   "cell_type": "code",
   "execution_count": 18,
   "metadata": {
    "scrolled": true
   },
   "outputs": [
    {
     "data": {
      "text/plain": [
       "True"
      ]
     },
     "execution_count": 18,
     "metadata": {},
     "output_type": "execute_result"
    }
   ],
   "source": [
    "solution = Solution()\n",
    "solution.isScramble('abc', 'bca')"
   ]
  },
  {
   "cell_type": "code",
   "execution_count": null,
   "metadata": {
    "collapsed": true
   },
   "outputs": [],
   "source": []
  }
 ],
 "metadata": {
  "kernelspec": {
   "display_name": "Python 3",
   "language": "python",
   "name": "python3"
  },
  "language_info": {
   "codemirror_mode": {
    "name": "ipython",
    "version": 3
   },
   "file_extension": ".py",
   "mimetype": "text/x-python",
   "name": "python",
   "nbconvert_exporter": "python",
   "pygments_lexer": "ipython3",
   "version": "3.5.4"
  }
 },
 "nbformat": 4,
 "nbformat_minor": 2
}
